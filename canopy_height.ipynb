{
 "cells": [
  {
   "cell_type": "markdown",
   "metadata": {},
   "source": [
    "Dewi Henry\n",
    "June 23. 2020\n",
    "subtracting TanDEM-X raster that depicts suface elevation including tree canopy from the year 2015and man made buildings from GEBCO DEM which uses SRTM that collects surface elevation from the year 2000"
   ]
  },
  {
   "cell_type": "code",
   "execution_count": 213,
   "metadata": {},
   "outputs": [],
   "source": [
    "import matplotlib.pyplot as plt\n",
    "import numpy as np\n",
    "import os\n",
    "import glob\n",
    "from pathlib import Path\n",
    "import geopandas as gpd\n",
    "from osgeo import gdal\n",
    "import re\n",
    "import subprocess"
   ]
  },
  {
   "cell_type": "code",
   "execution_count": 214,
   "metadata": {},
   "outputs": [],
   "source": [
    "import numpy as np\n",
    "import os\n",
    "import glob\n",
    "from pathlib import Path\n",
    "import geopandas as gpd\n",
    "from osgeo import gdal\n",
    "import re\n",
    "import subprocess\n",
    "import matplotlib.pyplot as plt"
   ]
  },
  {
   "cell_type": "code",
   "execution_count": 192,
   "metadata": {},
   "outputs": [
    {
     "name": "stdout",
     "output_type": "stream",
     "text": [
      "/users/dewihenry/jpl/python/canopy_height/output2/\n"
     ]
    }
   ],
   "source": [
    "outpath = '/users/dewihenry/jpl/python/canopy_height/output2/'\n",
    "#gebco_data = '/users/dewihenry/jpl/python/data_canopy_height/mekong_gebco.tif'\n",
    "delta = \"ganges\"\n",
    "print(outpath)"
   ]
  },
  {
   "cell_type": "code",
   "execution_count": 180,
   "metadata": {},
   "outputs": [
    {
     "data": {
      "text/plain": [
       "[PosixPath('/users/dewihenry/jpl/python/canopy_height/tdx_data/tdx-ganges/dem/TDM1_DEM__30_N21E087_DEM.tif'),\n",
       " PosixPath('/users/dewihenry/jpl/python/canopy_height/tdx_data/tdx-ganges/dem/TDM1_DEM__30_N21E088_DEM.tif'),\n",
       " PosixPath('/users/dewihenry/jpl/python/canopy_height/tdx_data/tdx-ganges/dem/TDM1_DEM__30_N21E089_DEM.tif'),\n",
       " PosixPath('/users/dewihenry/jpl/python/canopy_height/tdx_data/tdx-ganges/dem/TDM1_DEM__30_N21E090_DEM.tif'),\n",
       " PosixPath('/users/dewihenry/jpl/python/canopy_height/tdx_data/tdx-ganges/dem/TDM1_DEM__30_N21E091_DEM.tif'),\n",
       " PosixPath('/users/dewihenry/jpl/python/canopy_height/tdx_data/tdx-ganges/dem/TDM1_DEM__30_N21E092_DEM.tif'),\n",
       " PosixPath('/users/dewihenry/jpl/python/canopy_height/tdx_data/tdx-ganges/dem/TDM1_DEM__30_N22E087_DEM.tif'),\n",
       " PosixPath('/users/dewihenry/jpl/python/canopy_height/tdx_data/tdx-ganges/dem/TDM1_DEM__30_N22E088_DEM.tif'),\n",
       " PosixPath('/users/dewihenry/jpl/python/canopy_height/tdx_data/tdx-ganges/dem/TDM1_DEM__30_N22E089_DEM.tif'),\n",
       " PosixPath('/users/dewihenry/jpl/python/canopy_height/tdx_data/tdx-ganges/dem/TDM1_DEM__30_N22E090_DEM.tif'),\n",
       " PosixPath('/users/dewihenry/jpl/python/canopy_height/tdx_data/tdx-ganges/dem/TDM1_DEM__30_N22E091_DEM.tif'),\n",
       " PosixPath('/users/dewihenry/jpl/python/canopy_height/tdx_data/tdx-ganges/dem/TDM1_DEM__30_N22E092_DEM.tif'),\n",
       " PosixPath('/users/dewihenry/jpl/python/canopy_height/tdx_data/tdx-ganges/dem/TDM1_DEM__30_N23E087_DEM.tif'),\n",
       " PosixPath('/users/dewihenry/jpl/python/canopy_height/tdx_data/tdx-ganges/dem/TDM1_DEM__30_N23E088_DEM.tif'),\n",
       " PosixPath('/users/dewihenry/jpl/python/canopy_height/tdx_data/tdx-ganges/dem/TDM1_DEM__30_N23E089_DEM.tif'),\n",
       " PosixPath('/users/dewihenry/jpl/python/canopy_height/tdx_data/tdx-ganges/dem/TDM1_DEM__30_N23E090_DEM.tif'),\n",
       " PosixPath('/users/dewihenry/jpl/python/canopy_height/tdx_data/tdx-ganges/dem/TDM1_DEM__30_N23E091_DEM.tif'),\n",
       " PosixPath('/users/dewihenry/jpl/python/canopy_height/tdx_data/tdx-ganges/dem/TDM1_DEM__30_N23E092_DEM.tif'),\n",
       " PosixPath('/users/dewihenry/jpl/python/canopy_height/tdx_data/tdx-ganges/dem/TDM1_DEM__30_N24E087_DEM.tif'),\n",
       " PosixPath('/users/dewihenry/jpl/python/canopy_height/tdx_data/tdx-ganges/dem/TDM1_DEM__30_N24E088_DEM.tif'),\n",
       " PosixPath('/users/dewihenry/jpl/python/canopy_height/tdx_data/tdx-ganges/dem/TDM1_DEM__30_N24E089_DEM.tif'),\n",
       " PosixPath('/users/dewihenry/jpl/python/canopy_height/tdx_data/tdx-ganges/dem/TDM1_DEM__30_N24E090_DEM.tif'),\n",
       " PosixPath('/users/dewihenry/jpl/python/canopy_height/tdx_data/tdx-ganges/dem/TDM1_DEM__30_N24E091_DEM.tif'),\n",
       " PosixPath('/users/dewihenry/jpl/python/canopy_height/tdx_data/tdx-ganges/dem/TDM1_DEM__30_N24E092_DEM.tif'),\n",
       " PosixPath('/users/dewihenry/jpl/python/canopy_height/tdx_data/tdx-ganges/dem/TDM1_DEM__30_N25E087_DEM.tif'),\n",
       " PosixPath('/users/dewihenry/jpl/python/canopy_height/tdx_data/tdx-ganges/dem/TDM1_DEM__30_N25E088_DEM.tif'),\n",
       " PosixPath('/users/dewihenry/jpl/python/canopy_height/tdx_data/tdx-ganges/dem/TDM1_DEM__30_N25E089_DEM.tif'),\n",
       " PosixPath('/users/dewihenry/jpl/python/canopy_height/tdx_data/tdx-ganges/dem/TDM1_DEM__30_N25E090_DEM.tif'),\n",
       " PosixPath('/users/dewihenry/jpl/python/canopy_height/tdx_data/tdx-ganges/dem/TDM1_DEM__30_N25E091_DEM.tif'),\n",
       " PosixPath('/users/dewihenry/jpl/python/canopy_height/tdx_data/tdx-ganges/dem/TDM1_DEM__30_N25E092_DEM.tif')]"
      ]
     },
     "execution_count": 180,
     "metadata": {},
     "output_type": "execute_result"
    }
   ],
   "source": [
    "tdx_data = Path('/users/dewihenry/jpl/python/canopy_height/tdx_data/tdx-' + delta + '/').glob('*/*.tif')\n",
    "tdx_data = sorted(tdx_data, key= lambda x: x.name)\n",
    "tdx_data"
   ]
  },
  {
   "cell_type": "code",
   "execution_count": 181,
   "metadata": {},
   "outputs": [
    {
     "name": "stdout",
     "output_type": "stream",
     "text": [
      "[PosixPath('/users/dewihenry/jpl/python/canopy_height/tdx_data/tdx-ganges/dem/TDM1_DEM__30_N21E087_DEM.tif'), PosixPath('/users/dewihenry/jpl/python/canopy_height/tdx_data/tdx-ganges/dem/TDM1_DEM__30_N21E088_DEM.tif'), PosixPath('/users/dewihenry/jpl/python/canopy_height/tdx_data/tdx-ganges/dem/TDM1_DEM__30_N21E089_DEM.tif'), PosixPath('/users/dewihenry/jpl/python/canopy_height/tdx_data/tdx-ganges/dem/TDM1_DEM__30_N21E090_DEM.tif'), PosixPath('/users/dewihenry/jpl/python/canopy_height/tdx_data/tdx-ganges/dem/TDM1_DEM__30_N21E091_DEM.tif'), PosixPath('/users/dewihenry/jpl/python/canopy_height/tdx_data/tdx-ganges/dem/TDM1_DEM__30_N21E092_DEM.tif'), PosixPath('/users/dewihenry/jpl/python/canopy_height/tdx_data/tdx-ganges/dem/TDM1_DEM__30_N22E087_DEM.tif'), PosixPath('/users/dewihenry/jpl/python/canopy_height/tdx_data/tdx-ganges/dem/TDM1_DEM__30_N22E088_DEM.tif'), PosixPath('/users/dewihenry/jpl/python/canopy_height/tdx_data/tdx-ganges/dem/TDM1_DEM__30_N22E089_DEM.tif'), PosixPath('/users/dewihenry/jpl/python/canopy_height/tdx_data/tdx-ganges/dem/TDM1_DEM__30_N22E090_DEM.tif'), PosixPath('/users/dewihenry/jpl/python/canopy_height/tdx_data/tdx-ganges/dem/TDM1_DEM__30_N22E091_DEM.tif'), PosixPath('/users/dewihenry/jpl/python/canopy_height/tdx_data/tdx-ganges/dem/TDM1_DEM__30_N22E092_DEM.tif'), PosixPath('/users/dewihenry/jpl/python/canopy_height/tdx_data/tdx-ganges/dem/TDM1_DEM__30_N23E087_DEM.tif'), PosixPath('/users/dewihenry/jpl/python/canopy_height/tdx_data/tdx-ganges/dem/TDM1_DEM__30_N23E088_DEM.tif'), PosixPath('/users/dewihenry/jpl/python/canopy_height/tdx_data/tdx-ganges/dem/TDM1_DEM__30_N23E089_DEM.tif'), PosixPath('/users/dewihenry/jpl/python/canopy_height/tdx_data/tdx-ganges/dem/TDM1_DEM__30_N23E090_DEM.tif'), PosixPath('/users/dewihenry/jpl/python/canopy_height/tdx_data/tdx-ganges/dem/TDM1_DEM__30_N23E091_DEM.tif'), PosixPath('/users/dewihenry/jpl/python/canopy_height/tdx_data/tdx-ganges/dem/TDM1_DEM__30_N23E092_DEM.tif'), PosixPath('/users/dewihenry/jpl/python/canopy_height/tdx_data/tdx-ganges/dem/TDM1_DEM__30_N24E087_DEM.tif'), PosixPath('/users/dewihenry/jpl/python/canopy_height/tdx_data/tdx-ganges/dem/TDM1_DEM__30_N24E088_DEM.tif'), PosixPath('/users/dewihenry/jpl/python/canopy_height/tdx_data/tdx-ganges/dem/TDM1_DEM__30_N24E089_DEM.tif'), PosixPath('/users/dewihenry/jpl/python/canopy_height/tdx_data/tdx-ganges/dem/TDM1_DEM__30_N24E090_DEM.tif'), PosixPath('/users/dewihenry/jpl/python/canopy_height/tdx_data/tdx-ganges/dem/TDM1_DEM__30_N24E091_DEM.tif'), PosixPath('/users/dewihenry/jpl/python/canopy_height/tdx_data/tdx-ganges/dem/TDM1_DEM__30_N24E092_DEM.tif'), PosixPath('/users/dewihenry/jpl/python/canopy_height/tdx_data/tdx-ganges/dem/TDM1_DEM__30_N25E087_DEM.tif'), PosixPath('/users/dewihenry/jpl/python/canopy_height/tdx_data/tdx-ganges/dem/TDM1_DEM__30_N25E088_DEM.tif'), PosixPath('/users/dewihenry/jpl/python/canopy_height/tdx_data/tdx-ganges/dem/TDM1_DEM__30_N25E089_DEM.tif'), PosixPath('/users/dewihenry/jpl/python/canopy_height/tdx_data/tdx-ganges/dem/TDM1_DEM__30_N25E090_DEM.tif'), PosixPath('/users/dewihenry/jpl/python/canopy_height/tdx_data/tdx-ganges/dem/TDM1_DEM__30_N25E091_DEM.tif'), PosixPath('/users/dewihenry/jpl/python/canopy_height/tdx_data/tdx-ganges/dem/TDM1_DEM__30_N25E092_DEM.tif')]\n"
     ]
    }
   ],
   "source": [
    "tdx_str = str(tdx_data)\n",
    "print (tdx_str)\n",
    "tdx_str1 = tdx_str.replace (\"('\",\"<\")\n",
    "tdx_str2 = tdx_str1.replace(\"tif\",\"tif>\")"
   ]
  },
  {
   "cell_type": "code",
   "execution_count": 182,
   "metadata": {},
   "outputs": [
    {
     "data": {
      "text/plain": [
       "['/users/dewihenry/jpl/python/canopy_height/tdx_data/tdx-ganges/dem/TDM1_DEM__30_N21E087_DEM.tif',\n",
       " '/users/dewihenry/jpl/python/canopy_height/tdx_data/tdx-ganges/dem/TDM1_DEM__30_N21E088_DEM.tif',\n",
       " '/users/dewihenry/jpl/python/canopy_height/tdx_data/tdx-ganges/dem/TDM1_DEM__30_N21E089_DEM.tif',\n",
       " '/users/dewihenry/jpl/python/canopy_height/tdx_data/tdx-ganges/dem/TDM1_DEM__30_N21E090_DEM.tif',\n",
       " '/users/dewihenry/jpl/python/canopy_height/tdx_data/tdx-ganges/dem/TDM1_DEM__30_N21E091_DEM.tif',\n",
       " '/users/dewihenry/jpl/python/canopy_height/tdx_data/tdx-ganges/dem/TDM1_DEM__30_N21E092_DEM.tif',\n",
       " '/users/dewihenry/jpl/python/canopy_height/tdx_data/tdx-ganges/dem/TDM1_DEM__30_N22E087_DEM.tif',\n",
       " '/users/dewihenry/jpl/python/canopy_height/tdx_data/tdx-ganges/dem/TDM1_DEM__30_N22E088_DEM.tif',\n",
       " '/users/dewihenry/jpl/python/canopy_height/tdx_data/tdx-ganges/dem/TDM1_DEM__30_N22E089_DEM.tif',\n",
       " '/users/dewihenry/jpl/python/canopy_height/tdx_data/tdx-ganges/dem/TDM1_DEM__30_N22E090_DEM.tif',\n",
       " '/users/dewihenry/jpl/python/canopy_height/tdx_data/tdx-ganges/dem/TDM1_DEM__30_N22E091_DEM.tif',\n",
       " '/users/dewihenry/jpl/python/canopy_height/tdx_data/tdx-ganges/dem/TDM1_DEM__30_N22E092_DEM.tif',\n",
       " '/users/dewihenry/jpl/python/canopy_height/tdx_data/tdx-ganges/dem/TDM1_DEM__30_N23E087_DEM.tif',\n",
       " '/users/dewihenry/jpl/python/canopy_height/tdx_data/tdx-ganges/dem/TDM1_DEM__30_N23E088_DEM.tif',\n",
       " '/users/dewihenry/jpl/python/canopy_height/tdx_data/tdx-ganges/dem/TDM1_DEM__30_N23E089_DEM.tif',\n",
       " '/users/dewihenry/jpl/python/canopy_height/tdx_data/tdx-ganges/dem/TDM1_DEM__30_N23E090_DEM.tif',\n",
       " '/users/dewihenry/jpl/python/canopy_height/tdx_data/tdx-ganges/dem/TDM1_DEM__30_N23E091_DEM.tif',\n",
       " '/users/dewihenry/jpl/python/canopy_height/tdx_data/tdx-ganges/dem/TDM1_DEM__30_N23E092_DEM.tif',\n",
       " '/users/dewihenry/jpl/python/canopy_height/tdx_data/tdx-ganges/dem/TDM1_DEM__30_N24E087_DEM.tif',\n",
       " '/users/dewihenry/jpl/python/canopy_height/tdx_data/tdx-ganges/dem/TDM1_DEM__30_N24E088_DEM.tif',\n",
       " '/users/dewihenry/jpl/python/canopy_height/tdx_data/tdx-ganges/dem/TDM1_DEM__30_N24E089_DEM.tif',\n",
       " '/users/dewihenry/jpl/python/canopy_height/tdx_data/tdx-ganges/dem/TDM1_DEM__30_N24E090_DEM.tif',\n",
       " '/users/dewihenry/jpl/python/canopy_height/tdx_data/tdx-ganges/dem/TDM1_DEM__30_N24E091_DEM.tif',\n",
       " '/users/dewihenry/jpl/python/canopy_height/tdx_data/tdx-ganges/dem/TDM1_DEM__30_N24E092_DEM.tif',\n",
       " '/users/dewihenry/jpl/python/canopy_height/tdx_data/tdx-ganges/dem/TDM1_DEM__30_N25E087_DEM.tif',\n",
       " '/users/dewihenry/jpl/python/canopy_height/tdx_data/tdx-ganges/dem/TDM1_DEM__30_N25E088_DEM.tif',\n",
       " '/users/dewihenry/jpl/python/canopy_height/tdx_data/tdx-ganges/dem/TDM1_DEM__30_N25E089_DEM.tif',\n",
       " '/users/dewihenry/jpl/python/canopy_height/tdx_data/tdx-ganges/dem/TDM1_DEM__30_N25E090_DEM.tif',\n",
       " '/users/dewihenry/jpl/python/canopy_height/tdx_data/tdx-ganges/dem/TDM1_DEM__30_N25E091_DEM.tif',\n",
       " '/users/dewihenry/jpl/python/canopy_height/tdx_data/tdx-ganges/dem/TDM1_DEM__30_N25E092_DEM.tif']"
      ]
     },
     "execution_count": 182,
     "metadata": {},
     "output_type": "execute_result"
    }
   ],
   "source": [
    "tdx_new = re.findall(r'<(.+?)>',tdx_str2)\n",
    "tdx_new"
   ]
  },
  {
   "cell_type": "code",
   "execution_count": 184,
   "metadata": {},
   "outputs": [
    {
     "data": {
      "text/plain": [
       "'/users/dewihenry/jpl/python/canopy_height/tdx_data/tdx-ganges/dem/TDM1_DEM__30_N21E087_DEM.tif /users/dewihenry/jpl/python/canopy_height/tdx_data/tdx-ganges/dem/TDM1_DEM__30_N21E088_DEM.tif /users/dewihenry/jpl/python/canopy_height/tdx_data/tdx-ganges/dem/TDM1_DEM__30_N21E089_DEM.tif /users/dewihenry/jpl/python/canopy_height/tdx_data/tdx-ganges/dem/TDM1_DEM__30_N21E090_DEM.tif /users/dewihenry/jpl/python/canopy_height/tdx_data/tdx-ganges/dem/TDM1_DEM__30_N21E091_DEM.tif /users/dewihenry/jpl/python/canopy_height/tdx_data/tdx-ganges/dem/TDM1_DEM__30_N21E092_DEM.tif /users/dewihenry/jpl/python/canopy_height/tdx_data/tdx-ganges/dem/TDM1_DEM__30_N22E087_DEM.tif /users/dewihenry/jpl/python/canopy_height/tdx_data/tdx-ganges/dem/TDM1_DEM__30_N22E088_DEM.tif /users/dewihenry/jpl/python/canopy_height/tdx_data/tdx-ganges/dem/TDM1_DEM__30_N22E089_DEM.tif /users/dewihenry/jpl/python/canopy_height/tdx_data/tdx-ganges/dem/TDM1_DEM__30_N22E090_DEM.tif /users/dewihenry/jpl/python/canopy_height/tdx_data/tdx-ganges/dem/TDM1_DEM__30_N22E091_DEM.tif /users/dewihenry/jpl/python/canopy_height/tdx_data/tdx-ganges/dem/TDM1_DEM__30_N22E092_DEM.tif /users/dewihenry/jpl/python/canopy_height/tdx_data/tdx-ganges/dem/TDM1_DEM__30_N23E087_DEM.tif /users/dewihenry/jpl/python/canopy_height/tdx_data/tdx-ganges/dem/TDM1_DEM__30_N23E088_DEM.tif /users/dewihenry/jpl/python/canopy_height/tdx_data/tdx-ganges/dem/TDM1_DEM__30_N23E089_DEM.tif /users/dewihenry/jpl/python/canopy_height/tdx_data/tdx-ganges/dem/TDM1_DEM__30_N23E090_DEM.tif /users/dewihenry/jpl/python/canopy_height/tdx_data/tdx-ganges/dem/TDM1_DEM__30_N23E091_DEM.tif /users/dewihenry/jpl/python/canopy_height/tdx_data/tdx-ganges/dem/TDM1_DEM__30_N23E092_DEM.tif /users/dewihenry/jpl/python/canopy_height/tdx_data/tdx-ganges/dem/TDM1_DEM__30_N24E087_DEM.tif /users/dewihenry/jpl/python/canopy_height/tdx_data/tdx-ganges/dem/TDM1_DEM__30_N24E088_DEM.tif /users/dewihenry/jpl/python/canopy_height/tdx_data/tdx-ganges/dem/TDM1_DEM__30_N24E089_DEM.tif /users/dewihenry/jpl/python/canopy_height/tdx_data/tdx-ganges/dem/TDM1_DEM__30_N24E090_DEM.tif /users/dewihenry/jpl/python/canopy_height/tdx_data/tdx-ganges/dem/TDM1_DEM__30_N24E091_DEM.tif /users/dewihenry/jpl/python/canopy_height/tdx_data/tdx-ganges/dem/TDM1_DEM__30_N24E092_DEM.tif /users/dewihenry/jpl/python/canopy_height/tdx_data/tdx-ganges/dem/TDM1_DEM__30_N25E087_DEM.tif /users/dewihenry/jpl/python/canopy_height/tdx_data/tdx-ganges/dem/TDM1_DEM__30_N25E088_DEM.tif /users/dewihenry/jpl/python/canopy_height/tdx_data/tdx-ganges/dem/TDM1_DEM__30_N25E089_DEM.tif /users/dewihenry/jpl/python/canopy_height/tdx_data/tdx-ganges/dem/TDM1_DEM__30_N25E090_DEM.tif /users/dewihenry/jpl/python/canopy_height/tdx_data/tdx-ganges/dem/TDM1_DEM__30_N25E091_DEM.tif /users/dewihenry/jpl/python/canopy_height/tdx_data/tdx-ganges/dem/TDM1_DEM__30_N25E092_DEM.tif'"
      ]
     },
     "execution_count": 184,
     "metadata": {},
     "output_type": "execute_result"
    }
   ],
   "source": [
    "tdx_filestring = \" \" .join(tdx_new)\n",
    "tdx_filestring"
   ]
  },
  {
   "cell_type": "code",
   "execution_count": 194,
   "metadata": {},
   "outputs": [
    {
     "name": "stdout",
     "output_type": "stream",
     "text": [
      "0...10...20...30...40...50...60...70...80...90...100 - done.\n"
     ]
    }
   ],
   "source": [
    "ndv = str( np.nan)\n",
    "tdx_merge = outpath + \"tdx_\" + delta  + \".tif\"\n",
    "cmd = \"../../opt/anaconda3/bin/gdal_merge.py -n -32767 -a_nodata \" + ndv + \" -o \" + tdx_merge + \" \" + tdx_filestring \n",
    "!{cmd}"
   ]
  },
  {
   "cell_type": "code",
   "execution_count": 195,
   "metadata": {},
   "outputs": [
    {
     "name": "stdout",
     "output_type": "stream",
     "text": [
      "/users/dewihenry/jpl/python/canopy_height/output2/tdx_ganges.tif\n"
     ]
    }
   ],
   "source": [
    "print(tdx_merge)"
   ]
  },
  {
   "cell_type": "markdown",
   "metadata": {},
   "source": [
    "now I have merged TanDEM-X data going to change the CRS to EMG96"
   ]
  },
  {
   "cell_type": "code",
   "execution_count": 196,
   "metadata": {},
   "outputs": [
    {
     "name": "stdout",
     "output_type": "stream",
     "text": [
      "Creating output file that is 7201P x 6001L.\n",
      "Processing /users/dewihenry/jpl/python/canopy_height/output2/tdx_ganges.tif [1/1] : 0Using internal nodata values (e.g. nan) for image /users/dewihenry/jpl/python/canopy_height/output2/tdx_ganges.tif.\n",
      "Copying nodata values from source /users/dewihenry/jpl/python/canopy_height/output2/tdx_ganges.tif to destination /users/dewihenry/jpl/python/canopy_height/output2/tdx_egm.tif.\n",
      "...10...20...30...40...50...60...70...80...90...100 - done.\n"
     ]
    }
   ],
   "source": [
    "#-dstnodata 0\n",
    "tdx_egm = outpath + \"tdx_egm.tif\"\n",
    "cmd = \"../../opt/anaconda3/bin/gdalwarp -s_srs EPSG:4326+4979 -t_srs EPSG:4326+5773 \" + tdx_merge + \" \" + tdx_egm\n",
    "!{cmd}"
   ]
  },
  {
   "cell_type": "markdown",
   "metadata": {},
   "source": [
    "GEBCO EGM"
   ]
  },
  {
   "cell_type": "code",
   "execution_count": 197,
   "metadata": {},
   "outputs": [
    {
     "name": "stdout",
     "output_type": "stream",
     "text": [
      "/users/dewihenry/jpl/python/canopy_height/ganges.tif\n"
     ]
    }
   ],
   "source": [
    "gebco = '/users/dewihenry/jpl/python/canopy_height/' + delta + '.tif'\n",
    "print(gebco)"
   ]
  },
  {
   "cell_type": "markdown",
   "metadata": {},
   "source": [
    "converting the GEBCO DEM from WGS84 to have a verticle datum of EGM96"
   ]
  },
  {
   "cell_type": "code",
   "execution_count": 198,
   "metadata": {},
   "outputs": [
    {
     "name": "stdout",
     "output_type": "stream",
     "text": [
      "Processing /users/dewihenry/jpl/python/canopy_height/ganges.tif [1/1] : 0Using internal nodata values (e.g. -32767) for image /users/dewihenry/jpl/python/canopy_height/ganges.tif.\n",
      "...10...20...30...40...50...60...70...80...90...100 - done.\n"
     ]
    }
   ],
   "source": [
    "gebco_egm = outpath + \"gebco_egm.tif\"\n",
    "cmd = \"../../opt/anaconda3/bin/gdalwarp -dstnodata 0 -s_srs EPSG:4326+4979 -t_srs EPSG:4326+5773 \" + gebco + \" \" + gebco_egm\n",
    "!{cmd}"
   ]
  },
  {
   "cell_type": "markdown",
   "metadata": {},
   "source": [
    "Cropping the extent of TanDEM-X data and re sampleing "
   ]
  },
  {
   "cell_type": "code",
   "execution_count": 217,
   "metadata": {},
   "outputs": [
    {
     "name": "stdout",
     "output_type": "stream",
     "text": [
      "ERROR 1: Output dataset /users/dewihenry/jpl/python/canopy_height/output2/tdx_cropped exists,\r\n",
      "but some command line options were provided indicating a new dataset\r\n",
      "should be created.  Please delete existing dataset and run again.\r\n",
      "\r\n"
     ]
    }
   ],
   "source": [
    "#put in extent xmin, ymin, xmax, ymax\n",
    "xy = \"87.70 21.5 91.75 25.5 \"\n",
    "croppedtdx = outpath + 'tdx_cropped'\n",
    "extent = \"../../opt/anaconda3/bin/gdalwarp -te \" + xy + tdx_egm + \" \" + croppedtdx\n",
    "!{extent}"
   ]
  },
  {
   "cell_type": "code",
   "execution_count": 201,
   "metadata": {
    "scrolled": true
   },
   "outputs": [
    {
     "name": "stdout",
     "output_type": "stream",
     "text": [
      "(87.7, 0.0008333333333333327, 0.0, 25.5, 0.0, -0.0008333333333333334)\n",
      "<bound method Dataset.GetGeoTransform of <osgeo.gdal.Dataset; proxy of <Swig Object of type 'GDALDatasetShadow *' at 0x10f2e3c30> >>\n",
      "GEOGCS[\"WGS 84\",DATUM[\"WGS_1984\",SPHEROID[\"WGS 84\",6378137,298.257223563,AUTHORITY[\"EPSG\",\"7030\"]],AUTHORITY[\"EPSG\",\"6326\"]],PRIMEM[\"Greenwich\",0],UNIT[\"degree\",0.0174532925199433],AUTHORITY[\"EPSG\",\"4326\"]]\n"
     ]
    }
   ],
   "source": [
    "ds=gdal.Open(croppedtdx)\n",
    "d=ds.GetGeoTransform()\n",
    "p=ds.GetProjection()\n",
    "print(d)\n",
    "print(ds.GetGeoTransform)\n",
    "print(p)"
   ]
  },
  {
   "cell_type": "code",
   "execution_count": 202,
   "metadata": {},
   "outputs": [],
   "source": [
    "resample_alg = 'bilinear'\n",
    "xres =0.00027777\n",
    "yres =0.00027777\n",
    "tdx_resampled= outpath + 'tdx_resampled.tif'"
   ]
  },
  {
   "cell_type": "code",
   "execution_count": 203,
   "metadata": {},
   "outputs": [],
   "source": [
    "ds = gdal.Warp(tdx_resampled, \n",
    "               croppedtdx, \n",
    "               format = 'GTiff', \n",
    "                xRes=xres, \n",
    "                yRes=yres,\n",
    "               resampleAlg=resample_alg, \n",
    "               dstNodata = 0)\n",
    "ds = None"
   ]
  },
  {
   "cell_type": "code",
   "execution_count": 215,
   "metadata": {},
   "outputs": [
    {
     "name": "stdout",
     "output_type": "stream",
     "text": [
      "../../opt/anaconda3/bin/gdalwarp -te ../../opt/anaconda3/bin/gdalwarp -te ../../opt/anaconda3/bin/gdalwarp -te ../../opt/anaconda3/bin/gdalwarp -te ../../opt/anaconda3/bin/gdalwarp -te 104 8 106 11 /users/dewihenry/jpl/python/canopy_height/output2/gebco_egm.tif /users/dewihenry/jpl/python/canopy_height/output2/gebco_cropped.tif/users/dewihenry/jpl/python/canopy_height/output2/gebco_egm.tif /users/dewihenry/jpl/python/canopy_height/output2/gebco_cropped.tif/users/dewihenry/jpl/python/canopy_height/output2/gebco_egm.tif /users/dewihenry/jpl/python/canopy_height/output2/gebco_cropped.tif/users/dewihenry/jpl/python/canopy_height/output2/gebco_egm.tif /users/dewihenry/jpl/python/canopy_height/output2/gebco_cropped.tif/users/dewihenry/jpl/python/canopy_height/output2/gebco_egm.tif /users/dewihenry/jpl/python/canopy_height/output2/gebco_cropped.tif\n"
     ]
    }
   ],
   "source": [
    "print(extent)"
   ]
  },
  {
   "cell_type": "markdown",
   "metadata": {},
   "source": [
    "### cropping extent of GEBCO data and resampling "
   ]
  },
  {
   "cell_type": "code",
   "execution_count": 218,
   "metadata": {},
   "outputs": [
    {
     "name": "stdout",
     "output_type": "stream",
     "text": [
      "Creating output file that is 972P x 960L.\r\n",
      "Processing /users/dewihenry/jpl/python/canopy_height/output2/gebco_egm.tif [1/1] : 0Using internal nodata values (e.g. 0) for image /users/dewihenry/jpl/python/canopy_height/output2/gebco_egm.tif.\r\n",
      "Copying nodata values from source /users/dewihenry/jpl/python/canopy_height/output2/gebco_egm.tif to destination /users/dewihenry/jpl/python/canopy_height/output2/gebco_cropped.tif.\r\n",
      "...10...20...30...40...50...60...70...80...90...100 - done.\r\n"
     ]
    }
   ],
   "source": [
    "gebco_cropped =  outpath + \"gebco_cropped.tif\"\n",
    "extent = \"../../opt/anaconda3/bin/gdalwarp -te \" + xy + gebco_egm + \" \" + gebco_cropped\n",
    "!{extent}"
   ]
  },
  {
   "cell_type": "code",
   "execution_count": 219,
   "metadata": {},
   "outputs": [],
   "source": [
    "gebco_resampled = outpath + 'gebco_resampled.tif'\n",
    "ss = gdal.Warp(gebco_resampled, \n",
    "               gebco_cropped, \n",
    "               format = 'GTiff', \n",
    "                xRes=xres, \n",
    "                yRes=yres,\n",
    "               resampleAlg=resample_alg, \n",
    "               dstNodata = 0)\n",
    "ss = None"
   ]
  },
  {
   "cell_type": "code",
   "execution_count": 220,
   "metadata": {},
   "outputs": [
    {
     "name": "stdout",
     "output_type": "stream",
     "text": [
      "(14400, 14580)\n",
      "[array([[   0,    0,    0, ..., 1792, 1792, 1792],\n",
      "       [   0,    0,    0, ..., 1792, 1792, 1792],\n",
      "       [   0,    0,    0, ..., 1792, 1792, 1792],\n",
      "       ...,\n",
      "       [   0,    0,    0, ...,   48,   48,   48],\n",
      "       [   0,    0,    0, ...,   48,   48,   48],\n",
      "       [   0,    0,    0, ...,   48,   48,   48]], dtype=int16)]\n"
     ]
    },
    {
     "data": {
      "text/plain": [
       "<Figure size 432x288 with 0 Axes>"
      ]
     },
     "metadata": {},
     "output_type": "display_data"
    }
   ],
   "source": [
    "all_gebco = []\n",
    "gebco = gdal.Open(gebco_resampled, gdal.GA_ReadOnly)\n",
    "gebcoimage= gebco.ReadAsArray()\n",
    "all_gebco.append(gebcoimage)\n",
    "print(gebcoimage.shape)\n",
    "plt.figure()\n",
    "print(all_gebco)"
   ]
  },
  {
   "cell_type": "code",
   "execution_count": 221,
   "metadata": {},
   "outputs": [
    {
     "name": "stdout",
     "output_type": "stream",
     "text": [
      "(14400, 14580)\n",
      "[array([[  32.657578,   32.657578,   32.368694, ..., 1739.3049  ,\n",
      "        1745.9419  , 1748.6511  ],\n",
      "       [  32.657578,   32.657578,   32.368694, ..., 1739.3049  ,\n",
      "        1745.9419  , 1748.6511  ],\n",
      "       [  33.18129 ,   33.18129 ,   33.08394 , ..., 1748.4423  ,\n",
      "        1753.6259  , 1755.7418  ],\n",
      "       ...,\n",
      "       [   0.      ,    0.      ,    0.      , ...,    0.      ,\n",
      "           0.      ,    0.      ],\n",
      "       [   0.      ,    0.      ,    0.      , ...,    0.      ,\n",
      "           0.      ,    0.      ],\n",
      "       [   0.      ,    0.      ,    0.      , ...,    0.      ,\n",
      "           0.      ,    0.      ]], dtype=float32)]\n"
     ]
    },
    {
     "data": {
      "text/plain": [
       "<Figure size 432x288 with 0 Axes>"
      ]
     },
     "metadata": {},
     "output_type": "display_data"
    }
   ],
   "source": [
    "all_tdx = []\n",
    "tdx = gdal.Open(tdx_resampled, gdal.GA_ReadOnly)\n",
    "tdximage = tdx.ReadAsArray()\n",
    "all_tdx.append(tdximage)\n",
    "print(tdximage.shape)\n",
    "plt.figure()\n",
    "print(all_tdx)"
   ]
  },
  {
   "cell_type": "code",
   "execution_count": 222,
   "metadata": {},
   "outputs": [
    {
     "data": {
      "text/plain": [
       "(osgeo.gdal.Dataset, numpy.ndarray)"
      ]
     },
     "execution_count": 222,
     "metadata": {},
     "output_type": "execute_result"
    }
   ],
   "source": [
    "type(tdx), type(tdximage)"
   ]
  },
  {
   "cell_type": "code",
   "execution_count": 225,
   "metadata": {},
   "outputs": [
    {
     "data": {
      "image/png": "[encoded data removed]",
      "text/plain": [
       "<Figure size 432x288 with 2 Axes>"
      ]
     },
     "metadata": {
      "needs_background": "light"
     },
     "output_type": "display_data"
    }
   ],
   "source": [
    "diff= tdximage - gebcoimage\n",
    "plt.figure()\n",
    "plt.imshow(diff, cmap = \"coolwarm\", vmin= -10, vmax= 10)\n",
    "plt.colorbar()\n",
    "plt.show()"
   ]
  },
  {
   "cell_type": "code",
   "execution_count": 226,
   "metadata": {},
   "outputs": [
    {
     "name": "stdout",
     "output_type": "stream",
     "text": [
      "14400 14580\n"
     ]
    }
   ],
   "source": [
    "[dx , dy] = tdximage.shape\n",
    "print(dx, dy)\n",
    "outFileName = outpath + \"diff.tif\"\n",
    "driver = gdal.GetDriverByName(\"GTiff\")\n",
    "outdata = driver.Create(outFileName, dy, dx)\n",
    "\n",
    "outdata.SetGeoTransform(d)##sets same geotransform as input\n",
    "outdata.SetProjection(p)##sets same projection as input\n",
    "\n",
    "outband = outdata.GetRasterBand(1)\n",
    "outband.WriteArray(diff)\n",
    "outdata = None\n"
   ]
  },
  {
   "cell_type": "code",
   "execution_count": null,
   "metadata": {},
   "outputs": [],
   "source": []
  },
  {
   "cell_type": "code",
   "execution_count": null,
   "metadata": {},
   "outputs": [],
   "source": []
  },
  {
   "cell_type": "code",
   "execution_count": null,
   "metadata": {},
   "outputs": [],
   "source": []
  }
 ],
 "metadata": {
  "kernelspec": {
   "display_name": "Python 3",
   "language": "python",
   "name": "python3"
  },
  "language_info": {
   "codemirror_mode": {
    "name": "ipython",
    "version": 3
   },
   "file_extension": ".py",
   "mimetype": "text/x-python",
   "name": "python",
   "nbconvert_exporter": "python",
   "pygments_lexer": "ipython3",
   "version": "3.7.6"
  }
 },
 "nbformat": 4,
 "nbformat_minor": 4
}
